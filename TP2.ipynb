{
  "cells": [
    {
      "attachments": {},
      "cell_type": "markdown",
      "metadata": {
        "id": "qjKIf0quMsx4"
      },
      "source": [
        "# 1. Análise do banco de dados do governo das parcerias e relações nacionais"
      ]
    },
    {
      "attachments": {},
      "cell_type": "markdown",
      "metadata": {
        "id": "mNHpCJkSMsx5"
      },
      "source": [
        "# 2. Nome e Matrícula:\n",
        "### João Igor de Andrade Oliveira - 2018072409\n",
        "### Lucas de Almeida Martins - 2018020328\n",
        "### Rodolfo de Albuquerque Lessa Villa Verde - 2018020719"
      ]
    },
    {
      "attachments": {},
      "cell_type": "markdown",
      "metadata": {
        "id": "UtkUm0znMsx6"
      },
      "source": [
        "# 3. Descrição dos dados \n",
        "### Qual a URL? https://github.com/RodolfoLessa/TP2_IBD.git\n",
        "### Qual o domínio? https://dados.gov.br/dados/conjuntos-dados/parcerias-e-cooperacoes : Parcerias e Cooperações Nacionais\n",
        "### Como os dados foram processados? "
      ]
    },
    {
      "attachments": {},
      "cell_type": "markdown",
      "metadata": {},
      "source": [
        "### Criação das tabelas do banco de dados"
      ]
    },
    {
      "cell_type": "code",
      "execution_count": 23,
      "metadata": {},
      "outputs": [
        {
          "data": {
            "text/plain": [
              "<sqlite3.Cursor at 0x7f708673f340>"
            ]
          },
          "execution_count": 23,
          "metadata": {},
          "output_type": "execute_result"
        }
      ],
      "source": [
        "import sqlite3\n",
        "import pandas as pd\n",
        "\n",
        "# Conexão ao banco de dados\n",
        "conn = sqlite3.connect('dados_coop_nacionais.db')\n",
        "cursor = conn.cursor()\n",
        "\n",
        "# Esquema da tabela \"Função\"\n",
        "funcao_table = '''\n",
        "CREATE TABLE IF NOT EXISTS Funcao (\n",
        "    ID_Funcao INTEGER PRIMARY KEY,\n",
        "    NomeFuncao TEXT,\n",
        "    CategoriaFuncao TEXT\n",
        ")\n",
        "'''\n",
        "\n",
        "# Esquema da tabela \"Órgão de Origem\"\n",
        "orgao_origem_table = '''\n",
        "CREATE TABLE IF NOT EXISTS OrgaoOrigem (\n",
        "    ID_Orgao INTEGER PRIMARY KEY,\n",
        "    NomeOrgao TEXT,\n",
        "    LocalizacaoOrgao TEXT,\n",
        "    ID_Funcao INTEGER,\n",
        "    FOREIGN KEY (ID_Funcao) REFERENCES Funcao (ID_Funcao)\n",
        ")\n",
        "'''\n",
        "\n",
        "# Esquema da tabela \"Instituição\"\n",
        "instituicao_parceira_table = '''\n",
        "CREATE TABLE IF NOT EXISTS Instituicao (\n",
        "    ID_Instituicao INTEGER PRIMARY KEY,\n",
        "    NomeInstituicao TEXT,\n",
        "    LocalizacaoInstituicao TEXT,\n",
        "    ID_Area INTEGER,\n",
        "    FOREIGN KEY (ID_Area) REFERENCES Area (ID_Area)\n",
        ")\n",
        "'''\n",
        "\n",
        "# Esquema da tabela \"Area\"\n",
        "area_table = '''\n",
        "CREATE TABLE IF NOT EXISTS Area (\n",
        "    ID_Area INTEGER PRIMARY KEY,\n",
        "    NomeArea TEXT,\n",
        "    CategoriaArea TEXT\n",
        ")\n",
        "'''\n",
        "\n",
        "# Esquema da tabela \"Parceria\"\n",
        "parceria_table = '''\n",
        "CREATE TABLE IF NOT EXISTS Parceria (\n",
        "    ID_Parceria INTEGER PRIMARY KEY,\n",
        "    Descricao TEXT,\n",
        "    Ano INTEGER\n",
        ")\n",
        "'''\n",
        "\n",
        "# Esquema da tabela intermediária \"Parceria Instituicao Orgao\"\n",
        "parceria_instituicao_orgao_table = '''\n",
        "CREATE TABLE IF NOT EXISTS ParceriaInstituicaoOrgao (\n",
        "    ID_Parceria INTEGER,\n",
        "    ID_Orgao INTEGER,\n",
        "    ID_Instituicao INTEGER,\n",
        "    FOREIGN KEY (ID_Parceria) REFERENCES Parceria (ID_Parceria),\n",
        "    FOREIGN KEY (ID_Orgao) REFERENCES OrgaoOrigem (ID_Orgao),\n",
        "    FOREIGN KEY (ID_Instituicao) REFERENCES InstituicaoParceira (ID_Instituicao)\n",
        ")\n",
        "'''\n",
        "\n",
        "# Execução dos esquemas das tabelas\n",
        "cursor.execute(orgao_origem_table)\n",
        "cursor.execute(funcao_table)\n",
        "cursor.execute(instituicao_parceira_table)\n",
        "cursor.execute(area_table)\n",
        "cursor.execute(parceria_table)\n",
        "cursor.execute(parceria_instituicao_orgao_table)"
      ]
    },
    {
      "attachments": {},
      "cell_type": "markdown",
      "metadata": {},
      "source": [
        "### Inserção dos valores nas tabelas"
      ]
    },
    {
      "cell_type": "code",
      "execution_count": 24,
      "metadata": {},
      "outputs": [],
      "source": [
        "\n",
        "# Valores do campo de dados da Entidade Órgãos \n",
        "nome_orgao = ['Centro de Tecnologia da Informação Renato Archer']\n",
        "\n",
        "localizacao_orgao = ['Campinas/SP']\n",
        "\n",
        "# Verificar se a tabela \"OrgaoOrigem\" está vazia\n",
        "cursor.execute(\"SELECT COUNT(*) FROM OrgaoOrigem\")\n",
        "resultado = cursor.fetchone()\n",
        "if resultado[0] == 0:                   \n",
        "    # Inserir dados na tabela \"OrgaoOrigem\"\n",
        "    for i in range(len(nome_orgao)):\n",
        "        cursor.execute('''\n",
        "        INSERT INTO OrgaoOrigem (NomeOrgao, LocalizacaoOrgao, ID_Funcao)\n",
        "        VALUES (?, ?, ?)\n",
        "        ''', (nome_orgao[i], localizacao_orgao[i], 1))\n",
        "\n",
        "nome_funcao = 'Integração entre os meios produtivo e o acadêmico'\n",
        "categoria_funcao = 'Ciência, informação e comunicação'\n",
        "\n",
        "# Verificar se a tabela \"Funcao\" está vazia\n",
        "cursor.execute(\"SELECT COUNT(*) FROM Funcao\")\n",
        "resultado = cursor.fetchone()\n",
        "if resultado[0] == 0:                   \n",
        "    # Inserir dados na tabela \"Funcao\"\n",
        "    cursor.execute('''\n",
        "    INSERT INTO Funcao (NomeFuncao, CategoriaFuncao)\n",
        "    VALUES (?, ?)\n",
        "    ''', (nome_funcao, categoria_funcao))\n",
        "\n",
        "# Valores do campo de dados da Entidade Institutos\n",
        "nome_instituto = [\n",
        "    'Associação Brasileira do Emprego Apoiado (ABEA)',\n",
        "    'Bio.inn',\n",
        "    'BioEdtech',\n",
        "    'Biosys Gestão em Meio Ambiente LTDA',\n",
        "    'BYD Energy do Brasil',\n",
        "    'Centro Boldrini',\n",
        "    'Centro Brasileiro de Pesquisas Físicas (CBPF)',\n",
        "    'Centro de Desenvolvimento Tecnológico em Saúde (CDTS) da Fundação Osvaldo Cruz (Fiocruz)',\n",
        "    'Centro de Inovação em Novas Energias (CINE)',\n",
        "    'Centro de Pesquisa e Desenvolvimento em Telecomunicações (CPQD)',\n",
        "    'Centro Nacional de Tecnologia Eletrônica Avançada S.A. (CEITEC)',\n",
        "    'CEPID - BRAINN',\n",
        "    'Centro de Desenvolvimento de Materiais Funcionais',\n",
        "    'Centro Universitário FEI',\n",
        "    'Companhia de Saneamento Básico do Estado de São Paulo - SABESP',\n",
        "    'Eyedea Educação e Desenvolvimento em Oftalmologia LTDA.',\n",
        "    'Fundação Oswaldo Cruz (Fiocruz) Unidade de Ribeirão Preto/SP',\n",
        "    'Furukawa Electric LatAm S.A.',\n",
        "    'Hospital da Restauração-Recife',\n",
        "    'Hospital das Clínicas-Faculdade de Medicina (USP)',\n",
        "    'Hospital Municipal Miguel Couto-Rio de Janeiro',\n",
        "    'Indústria, Comércio, Importação e Exportação de Tintas Condutivas - TICON Ltda.',\n",
        "    'Instituto de Biologia Molecular do Paraná - IBMP',\n",
        "    'Instituto de Desenvolvimento de Londrina - CODEL',\n",
        "    'Instituto Estadual de Campinas (UNICAMP)',\n",
        "    'Instituto Federal do Rio Grande do Norte (IFRN)',\n",
        "    'Instituto iCORPS Brasil',\n",
        "    'Instituto Mauá de Tecnologia (IMT)',\n",
        "    'Instituto Nacional de Ciência e Tecnologia de Sistemas Micro e Nanoeletrônicos (INCT NAMITEC)',\n",
        "    'Instituto Nacional de Ciência e Tecnologia em Biofabricação (INCT BIOFABRIS)',\n",
        "    'Instituto Nacional de Ciência e Tecnologia em Medicina Regenerativa (INCT REGENERA)',\n",
        "    'Instituto Nacional de Ciência e Tecnologia para Sistemas Autônomos Cooperativos (InSAC)',\n",
        "    'Instituto Nacional de Metrologia (INMETRO)',\n",
        "    'Instituto Nacional de Pesquisas Espaciais (INPE)',\n",
        "    'Instituto de Estudos Avançados (IEAv)',\n",
        "    'Instituto Nacional de Tecnologia - INT',\n",
        "    'Instituto Tecnológico de Aeronáutica (ITA)',\n",
        "    'Ministério da Ciência, Tecnologia e Inovações (MCTI)',\n",
        "    'Ministério do Desenvolvimento Regional (MDR)',\n",
        "    'NAMITEC II',\n",
        "    'Núcleo de Perícias Criminalísticas de Campinas',\n",
        "    'Pontifícia Universidade Católica de Campinas (PUC-Campinas)',\n",
        "    'Rede de Nanodispositivos e Nanossensores (SIBRATECNANO)',\n",
        "    'Rede Nacional de Ensino e Pesquisa (RNP)',\n",
        "    'Tecnologia em Sistemas Automotivos - TSA Ltda.',\n",
        "    'Tribunal Superior Eleitoral',\n",
        "    'Universidade de São Paulo (USP)',\n",
        "    'Universidade do Estado da Bahia (UNEB)',\n",
        "    'Universidade Estadual de Campinas (UNICAMP)',\n",
        "    'Universidade Estadual Paulista (UNESP)',\n",
        "    'Universidade Federal de Alagoas (UFAL)',\n",
        "    'Universidade Federal de Juiz de Fora (UFJF)',\n",
        "    'Universidade Federal de Santa Catarina (UFSC)',\n",
        "    'Universidade Federal de Santa Maria (UFSM)',\n",
        "    'Universidade Federal de São Paulo (UNIFESP)',\n",
        "    'Universidade Federal Fluminense (UFF)',\n",
        "    'Universidade Federal do ABC (UFABC)',\n",
        "    'Vetra',\n",
        "    'Visto.Bio',\n",
        "    'Vyttra Diagnósticos'\n",
        "]\n",
        "\n",
        "localizacao_instituto = [\n",
        "    'São Paulo/SP',                     # Associação Brasileira do Emprego Apoiado (ABEA)\n",
        "    'São Paulo/SP',                     # Bio.inn\n",
        "    'São Paulo/SP',                     # BioEdtech\n",
        "    'São Paulo/SP',                     # Biosys Gestão em Meio Ambiente LTDA\n",
        "    'Campinas/SP',                      # BYD Energy do Brasil\n",
        "    'Campinas/SP',                      # Centro Boldrini\n",
        "    'Rio de Janeiro/RJ',                # Centro Brasileiro de Pesquisas Físicas (CBPF)\n",
        "    'Rio de Janeiro/RJ',                # Centro de Desenvolvimento Tecnológico em Saúde (CDTS) da Fundação Osvaldo Cruz (Fiocruz)\n",
        "    'Campinas/SP',                      # Centro de Inovação em Novas Energias (CINE)\n",
        "    'Campinas/SP',                      # Centro de Pesquisa e Desenvolvimento em Telecomunicações (CPQD)\n",
        "    'São Carlos/SP',                    # Centro Nacional de Tecnologia Eletrônica Avançada S.A. (CEITEC)\n",
        "    'Campinas/SP',                      # CEPID - BRAINN\n",
        "    'Campinas/SP',                      # Centro de Desenvolvimento de Materiais Funcionais\n",
        "    'São Bernardo do Campo/SP',         # Centro Universitário FEI\n",
        "    'São Paulo/SP',                     # Companhia de Saneamento Básico do Estado de São Paulo - SABESP\n",
        "    'São Paulo/SP',                     # Eyedea Educação e Desenvolvimento em Oftalmologia LTDA.\n",
        "    'Ribeirão Preto/SP',                # Fundação Oswaldo Cruz (Fiocruz) Unidade de Ribeirão Preto/SP\n",
        "    'Curitiba/PR',                      # Furukawa Electric LatAm S.A.\n",
        "    'Recife/PE',                        # Hospital da Restauração-Recife\n",
        "    'São Paulo/SP',                     # Hospital das Clínicas-Faculdade de Medicina (USP)\n",
        "    'Rio de Janeiro/RJ',                # Hospital Municipal Miguel Couto-Rio de Janeiro\n",
        "    'São Paulo/SP',                     # Indústria, Comércio, Importação e Exportação de Tintas Condutivas - TICON Ltda.\n",
        "    'Curitiba/PR',                      # Instituto de Biologia Molecular do Paraná - IBMP\n",
        "    'Londrina/PR',                      # Instituto de Desenvolvimento de Londrina - CODEL\n",
        "    'Campinas/SP',                      # Instituto Estadual de Campinas (UNICAMP)\n",
        "    'Natal/RN',                         # Instituto Federal do Rio Grande do Norte (IFRN)\n",
        "    'São Paulo/SP',                     # Instituto iCORPS Brasil\n",
        "    'São Paulo/SP',                     # Instituto Mauá de Tecnologia (IMT)\n",
        "    'Campinas/SP',                      # Instituto Nacional de Ciência e Tecnologia de Sistemas Micro e Nanoeletrônicos (INCT NAMITEC)\n",
        "    'Campinas/SP',                      # Instituto Nacional de Ciência e Tecnologia em Biofabricação (INCT BIOFABRIS)\n",
        "    'São Paulo/SP',                     # Instituto Nacional de Ciência e Tecnologia em Medicina Regenerativa (INCT REGENERA)\n",
        "    'São Paulo/SP',                     # Instituto Nacional de Ciência e Tecnologia para Sistemas Autônomos Cooperativos (InSAC)\n",
        "    'Duque de Caxias/RJ',               # Instituto Nacional de Metrologia (INMETRO)\n",
        "    'São José dos Campos/SP',           # Instituto Nacional de Pesquisas Espaciais (INPE)\n",
        "    'São José dos Campos/SP',           # Instituto de Estudos Avançados (IEAv)\n",
        "    'Rio de Janeiro/RJ',                # Instituto Nacional de Tecnologia - INT\n",
        "    'São José dos Campos/SP',           # Instituto Tecnológico de Aeronáutica (ITA)\n",
        "    'Brasília/DF',                      # Ministério de Ciência, Tecnologia e Inovações (MCTI)\n",
        "    'Brasília/DF',                      # Ministério do Desenvolvimento Regional (MDR)\n",
        "    'Campinas/SP',                      # NAMITEC II\n",
        "    'Campinas/SP',                      # Núcleo de Perícias Criminalísticas de Campinas\n",
        "    'Campinas/SP',                      # Pontifícia Universidade Católica de Campinas (PUC-Campinas)\n",
        "    'Campinas/SP',                      # Rede de Nanodispositivos e Nanossensores (SIBRATECNANO)\n",
        "    'Brasília/DF',                      # Rede Nacional de Ensino e Pesquisa (RNP)\n",
        "    'São Paulo/SP',                     # Tecnologia em Sistemas Automotivos - TSA Ltda.\n",
        "    'Brasília/DF',                      # Tribunal Superior Eleitoral\n",
        "    'São Paulo/SP',                     # Universidade de São Paulo (USP)\n",
        "    'Salvador/BA',                      # Universidade do Estado da Bahia (UNEB)\n",
        "    'Campinas/SP',                      # Universidade Estadual de Campinas (UNICAMP)\n",
        "    'São Paulo/SP',                     # Universidade Estadual Paulista (UNESP)\n",
        "    'Maceió/AL',                        # Universidade Federal de Alagoas (UFAL)\n",
        "    'Juiz de Fora/MG',                  # Universidade Federal de Juiz de Fora (UFJF)\n",
        "    'Florianópolis/SC',                 # Universidade Federal de Santa Catarina (UFSC)\n",
        "    'Santa Maria/RS',                   # Universidade Federal de Santa Maria (UFSM)\n",
        "    'São Paulo/SP',                     # Universidade Federal de São Paulo (UNIFESP)\n",
        "    'Niterói/RJ',                       # Universidade Federal Fluminense (UFF)\n",
        "    'Santo André/SP',                   # Universidade Federal do ABC (UFABC)\n",
        "    'São Paulo/SP',                     # Vetra\n",
        "    'São Paulo/SP',                     # Visto.Bio\n",
        "    'Campinas/SP'                       # Vyttra Diagnósticos\n",
        "]\n",
        "\n",
        "Index_Area = [9, 6, 3, 2, 5, 1, 8, 1, 5, 4, 4, 7, 7, 7, 2, 1, 1, 4, 1, 1, 1, 5, 8, 7, 7, 7, 7, 7, 7, 7, 7, 10, 7, 7, 7, 7, 10, 2, 7, 7, 7, 7, 7, 7, 7, 7, 7, 7, 7, 7, 7, 7, 1, 7, 7, 2, 6, 1, 1, 1, 1, 1, 1, 1, 1, 1, 1, 1, 1, 1, 1, 1, 1, 1, 1, 1, 1, 1, 1, 1]\n",
        "\n",
        "# Verificar se a tabela \"Insitituicao\" está vazia\n",
        "cursor.execute(\"SELECT COUNT(*) FROM Instituicao\")\n",
        "resultado = cursor.fetchone()\n",
        "if resultado[0] == 0:                   \n",
        "    # Inserir dados na tabela \"Instituicao\"\n",
        "    for i in range(len(nome_instituto)):\n",
        "        cursor.execute('''\n",
        "        INSERT INTO Instituicao (NomeInstituicao, LocalizacaoInstituicao, ID_Area)\n",
        "        VALUES (?, ?, ?)\n",
        "        ''', (nome_instituto[i], localizacao_instituto[i], Index_Area[i]))\n",
        "\n",
        "\n",
        "# Valores do campo de dados da Entidade Parcerias\n",
        "descricoes = [\n",
        "    'Construção de metodologia de inclusão social de egressas do cárcere pela via do emprego apoiado: uma proposta para formulação de políticas públicas de geração de trabalho e renda.',\n",
        "    'Desenvolvimento de tratamento mecânico com processo hidrometalúrgico para recuperação de materiais plásticos e metais ferrosos e não ferrosos.',\n",
        "    'Materiais avançados perovskita para células solares tandem de alta eficiência monolíticas com silício cristalino.',\n",
        "    'Uma Plataforma para Prontuários Semânticos de Saúde para o Domínio da Oncologia',\n",
        "    'Desenvolvimento e aplicações de tecnologias 3D físicas e virtuais para soluções de cirurgias de cranioplastia - as cirurgias plásticas de reconstrução do crânio pós-craniectomia descompressiva envolvem um alto custo, o que torna sua realização na rede SUS economicamente inviável. O grupo multidisciplinar deste projeto vem aprimorando tecnologias físicas de manufatura aditiva (impressão 3D) e neurofisiológicas para próteses customizadas para a reconstrução de defeitos extensos da calota craniana, com custos acessíveis à rede SUS.',\n",
        "    'Células solares de perovskita para fotossíntese artificial - esta cooperação tem como objetivos: 1) pesquisa e desenvolvimento de novos materiais baseados em perovskitas; 2) método para processamento de células fotovoltaicas de 25 cm2 constituídas dos novos materiais; e 3) integração da célula fotovoltaica com sistemas de redução de CO2 e de geração de hidrogênio.',\n",
        "    'Sisfóton-MCTI - Laboratório Integrador-CPQD - consultoria com o objetivo de promover a integração dos laboratórios do Sisfóton-MCTI, difundindo os modelos de negócio e operação, as boas práticas e compartilhamento de experiências, estimulando a aproximação e conexão entre os ambientes de pesquisa, negócios e investimentos com as empresas.',\n",
        "    'Rede de Cooperação em neurociência e neurotecnologa para desenvolvimento de pesquisas sobre o cérebro e seus mecanismos, coordenada pela UNICAMP, com apoio financeiro da FAPESP.',\n",
        "    'Formação de um Centro Multidisciplinar para o Desenvolvimento de Materiais Funcionais (CDMF)',\n",
        "    'Prova de Conceito (PoC) de monitoramento contínuo da Demanda Bioquímica de Oxigênio (DBO) e nível de O2 dissolvido nos fluxos de entrada e de saída em uma Estação de Tratamento de Esgoto (ETE) da SABESP.',\n",
        "    'Instrumentos para inovação em cirurgias oculares.',\n",
        "    'Estruturação de uma metodologia 3D detalhada para a produção de baixo custo, de próteses cranianas customizadas constituídas de cimento ósseo para crianças.',\n",
        "    'Desenvolvimento de Chip.',\n",
        "    'Soluções para diagnóstico point-of-care e lab-on-a-chip.',\n",
        "    'Desenvolver ações conjuntas e estabelecer cooperação nas seguintes áreas: 1) fomento de tecnologias voltadas para o setor de saúde, buscando soluções de engenharia, pelo emprego das tecnologias 3D, para a área da medicina; e 2) Intercâmbio de conhecimento e colaboração no desenvolvimento de tecnologias que utilizem inteligência artificial.',\n",
        "    'Desenvolvimento do empreendedorismo de base tecnológica e geração de novos negócios, nas áreas de: Eletrônica Têxtil e Vestível, Energias Renováveis e Sustentabilidade, Nanotecnologia, Internet das Coisas (IoT), Manufatura Aditiva, Robótica, Biofabricação, Sensores e Biosensores, Realidade Aumentada e Virtual, Simulação Computacional e Tecnologia Assistiva, Inteligência Artificial, Big Data e Segurança Cibernética, Fotônica, Materiais Avançados e Micro e Nanoeletrônica.',\n",
        "    'O INCT NAMITEC desenvolvimento de projetos de P&D em micro e nanoeletrônica, em temas tais como: redes de sensores sem fio, IoT, sistemas embarcados, projeto de circuitos integrados, estudos de dispositivos, materiais e técnicas de fabricação. Em especial, os laboratórios do CTI mais demandados pelo NAMITEC foram os de micro e nanofabricação, o de empacotamento eletrônico avançado e análise de falhas em componentes e sistemas eletrônicos. Soluções desenvolvidas com esse apoio incluem redes de sensores com aplicação na agropecuária e circuitos integrados tolerantes a radiação.',\n",
        "    'O BIOFABRIS tem como objetivo a integração de ferramentas computacionais, síntese e desenvolvimento de novos biomateriais, e aplicação de técnicas de engenharia para obtenção de dispositivos biomédicos (próteses e órteses ortopédicas) e de substitutos biológicos para tecidos vivos ou órgãos humanos defeituosos ou faltantes.',\n",
        "    'Biomodelagem aplicada ao estudo e desenvolvimento de dispositivos biomédicos: design e biomateriais.',\n",
        "    'O Programa do INCT-REGENERA tem como objetivo principal organizar e articular uma Rede nacional de competências acadêmicas e da indústria para o desenvolvimento de estratégias terapêuticas em Medicina Regenerativa com foco na redução da morbidade e mortalidade em diferentes doenças.',\n",
        "    'O CTI participa do Instituto Nacional de Ciência e Tecnologia para Sistemas Autônomos Cooperativos Aplicados em Segurança e Meio Ambiente (InSAC). Mais especificamente, do Grupo de Trabalho GT2 - Sistemas Robóticos Leves. As atividades desse grupo abrangem o desenvolvimento de duas plataformas mais leves que o ar não tripuladas (dirigível e aeróstato) e suas aplicações de cunho ambiental na Amazônia.',\n",
        "    'Projeto CITAR - Circuitos Integrados Tolerantes à Radiação, financiado pela FINEP, iniciado em 2012, cujo objetivo é desenvolver e qualificar componentes para os satélites lançados pelo Brasil, bem como os testes necessários para sua certificação.',\n",
        "    'Estudo e desenvolvimento de estruturas celulares fabricadas por impressão 3D.',\n",
        "    'Servovisão direta de robôs indústrias. A presente cooperação tem por objetivo o desenvolvimento de novos modelos matemáticos e métodos computacionais de visão robótica para estimação paramétrica e controle automático de robôs industriais. Dentre as mais variadas aplicações, destacam-se: manuseio de peças e materiais (pick-and-place), paletização e despaletização, montagem, inspeção de peças, etc.',\n",
        "    'Integração do CTI-Nano, CTI Renato Archer, ao Sistema Nacional de Laboratórios em Nanotecnologias (SisNANO) na categoria de Laboratório Estratégico. O CTI-Nano é capaz de apoiar projetos de P,D&I em nanodispositivos-nanossistemas eletrônicos e fotônicos, cobrindo etapas de desenho, fabricação, encapsulamento e caracterização eletroóptica.',\n",
        "    'O NAMITEC II tem como foco materiais, processos, novos dispositivos semicondutores e circuitos de interface para aplicações de IoT e outras, incluindo controle ambiental, qualidade o solo, de água, do ar, detecção de gases, aplicações biomédicas e de agropecuária. Estes temas estão na vanguarda da evolução tecnológica mundial, onde chips e sensores mais avançados e específicos são cruciais para a inovação em vários setores. Os dispositivos e sensores a serem pesquisados e desenvolvidos incluem FinFET, BioFET, ISFET, FET de grafeno, QuBit, fotônica integrada, sensores de vários tipos e circuitos de interface para estes dispositivos. Além desses, também tem também trabalho em dispositivos de carbeto de silício, requerida para a indústria automobilística e novas células solares TANDEN para aumentar eficiência. O trabalho deste INCT permitirá formar uma base sólida para o desenvolvimento e crescimento do setor industrial de componentes eletrônicos, sensores, fotônicos e optoeletrônicos e sistemas para tornar o país mais competitivo e avançado.',\n",
        "    'Estudos e pesquisas para atender a demanda da Polícia Científica.',\n",
        "    'Estudos e Pesquisas em Tecnologia da Informação e Interação com a Área de Psicologia.',\n",
        "    'Rede de Nanodispositivos e Nanossensores com o objetivo de desenvolver um teste rápido e portátil para detecção de doenças infecciosas.',\n",
        "    'Sistema de Avaliação de Cidades Inteligentes Sustentáveis - desenvolvimento de metodologia de avaliação de maturidade para cidades inteligentes, baseada em critérios definidos pela União Internacional de Telecomunicações (UIT).',\n",
        "    'Estudos e prospecção de oportunidades de cooperação técnica na área de impressão em 3D.',\n",
        "    'Pesquisa, desenvolvimento e inovação de tecnologia em qualificação e análise de hardware das urnas eletrônicas e outros equipamentos utilizados no processo eleitoral, voltados ao aprimoramento tecnológico do ecossistema de votação eletrônica.',\n",
        "    'Cooperação no âmbito de Projeto Temático FAPESP intitulado - \"Study, development and of a hybrid process: Additive Manufacturing (AM) + Hgh Speed Machining / Grinding (HSM/G) -MH2026\".',\n",
        "    'InVesalius - software livre e de código aberto para processamento e análise de imagens médicas como uma solução para a necessidade de integrar scanners médicos e a impressão 3D. Atualmente o InVesalius incorpora as técnicas mais modernas de computação gráfica, algoritmos especiais e inteligência artificial para atingir resultados precisos, rápidos e seguros. Alguns desmembramentos do InVesalius em pesquisa e inovação podem ser observados mundo afora, com destaque para o Neuronavegador InVesalius, desenvolvido pelo Departamento de Física da USP, em Ribeirão Preto.',\n",
        "    'Aplicação de Robô Social em Interação com Crianças nos Casos de Mutismo Seletivo e Fobia Social.',\n",
        "    'Apoio Científico e Tecnológico ao projeto de pesquisa do Prof. Walter Araújo, com foco no desenvolvimento e fabricação por manufatura aditiva de dispositivos microfluídicos, no contexto de pesquisa na área biomédica, para geração de microbolhas monodispersas como unidades carreadoras de compostos biologicamente ativos, extraídos de plantas do semiárido para o tratamento localizado de tumores.',\n",
        "    'Desenvolvimento de sistemas robóticos multimodais (som, imagem, movimento, inteligência), desenvolvimento e orientação conjunta em graduação e pós-graduação.',\n",
        "    'Servovisão direta de robôs não-holonômicos. A presente cooperação tem por objetivo o desenvolvimento de novos modelos matemáticos e métodos computacionais de visão robótica para estimação paramétrica e controle automático de robôs do tipo uniciclo. Dentre as mais variadas aplicações, destacam-se: rastreamento de alvos terrestres fixos ou móveis, posicionamento automático de carros autônomos, etc.',\n",
        "    'Rede de Inovação do BRICS (iBRICS Network) - estabelecimento de uma nova estrutura para a cooperação em ciência, tecnologia e inovação no âmbito do grupo, que é formado pelo Brasil, Rússia, Índia, China e África do Sul.',\n",
        "    'Pesquisa e desenvolvimento de tecnologias para Web Semântica, tecnologias para dados ligados abertos, design aberto e suas aplicações em sistemas enativos.',\n",
        "    'Síntese de carbono com alto grau de grafitização a partir de biomassa para aplicação em dispositivos eletrônicos.',\n",
        "    'Participação no desenvolvimento de sistemas de fotodetecção sob argônio líquido, para neutrinos nos experimentos DUNE - Deep Underground Neutrino Experiment.',\n",
        "    'Módulos Solares de Perovskita, Grafeno e Óxido de Nióbio: como o Brasil pode ser competitivo em energia fotovoltaica.',\n",
        "    'Funcionalização de dispositivos microfabricados visando à captura seletiva de células tumorais circulantes para fins de diagnóstico.',\n",
        "    'Desenvolvimento de biossensores nanoestruturados para detecção de gases orgânicos voláteis (VOCs).',\n",
        "    'Desenvolvimento de materiais e dispositivos eletroluminescentes impressos.',\n",
        "    'Materiais avançados e nanotecnologia para aplicações em baterias e eletrônica têxtil.',\n",
        "    'Desenvolvimento de pesquisa visando o estudo sobre a transcrição em Braille de peças didáticas para piano de compositores brasileiros contemporâneos.',\n",
        "    'Desenvolvimento de Novos Materiais para Impressão 3D de Próteses Buco-Maxilo-Faciais Multifuncionais Customizadas Utilizando Ferramentas da Saúde 4.0.',\n",
        "    'Desenvolvimento de testes eletroquímicos portáteis para o diagnóstico multiplex de doenças negligenciadas transmitidas por vetores. Essa proposta pretende, de maneira inovadora, desenvolver um novo conceito de testes eletroquímicos multiplex e portáteis, baseados em nanoestruturas de ZnO, capazes de realizar o diagnóstico simultâneo de doenças negligenciáveis de forma precisa, rápida e sem reação cruzada.'\n",
        "]\n",
        "\n",
        "anos = [2022, 2019, 2021, 2023, 2021, 2022, 2020, 2023, 2019, 2020, 2022, 2021, 2019, 2023, 2020, 2022, 2021, 2020, 2019, 2023, 2022, 2020, 2019, 2023, 2021, 2020, 2022, 2019, 2023, 2021, 2020, 2022, 2019, 2023, 2020, 2022, 2021, 2023, 2019, 2020, 2021, 2023, 2020, 2019, 2022, 2021, 2020, 2023, 2019, 2022]\n",
        "\n",
        "\n",
        "# Verificar se a tabela \"Parceria\" está vazia\n",
        "cursor.execute(\"SELECT COUNT(*) FROM Parceria\")\n",
        "resultado = cursor.fetchone()\n",
        "if resultado[0] == 0:                   \n",
        "    # Inserir dados na tabela \"Parceria\"\n",
        "    for i in range(len(descricoes)):\n",
        "        cursor.execute('''\n",
        "        INSERT INTO Parceria (Descricao, Ano)\n",
        "        VALUES (?, ?)\n",
        "        ''', (descricoes[i], anos[i]))\n",
        "\n",
        "# Valores do campo de dados da Entidade Area\n",
        "\n",
        "nome_area = [\n",
        "    'Aplicação de tecnologias avançadas em serviços de saúde e diagnósticos',\n",
        "    'Desenvolvimento de soluções tecnológicas para gestão ambiental',\n",
        "    'Desenvolvimento de tecnologias educacionais',\n",
        "    'Desenvolvimento de tecnologias para telecomunicações',\n",
        "    'Desenvolvimento de tecnologias sustentáveis e energias renováveis',\n",
        "    'Inovação em biotecnologia e ciências da vida',\n",
        "    'Pesquisa e desenvolvimento em diversas áreas tecnológicas',\n",
        "    'Pesquisa em física e áreas relacionadas',\n",
        "    'Promoção da inclusão no emprego de pessoas com deficiência',\n",
        "    'Regulação e desenvolvimento de tecnologias relacionadas à metrologia e qualidade'\n",
        "]\n",
        "\n",
        "categoria_area = [\n",
        "    'Saúde e Medicina',\n",
        "    'Sustentabilidade e Meio Ambiente',\n",
        "    'Educação e Tecnologia',\n",
        "    'Telecomunicações e Tecnologia da Informação',\n",
        "    'Sustentabilidade e Energia',\n",
        "    'Ciências da Vida',\n",
        "    'Tecnologia',\n",
        "    'Física e Ciências Naturais',\n",
        "    'Inclusão Social',\n",
        "    'Regulação e Qualidade'\n",
        "]\n",
        "\n",
        "# Verificar se a tabela \"Area\" está vazia\n",
        "cursor.execute(\"SELECT COUNT(*) FROM Area\")\n",
        "resultado = cursor.fetchone()\n",
        "if resultado[0] == 0:                   \n",
        "    # Inserir dados na tabela \"Area\"\n",
        "    for i in range(len(nome_area)):\n",
        "        cursor.execute('''\n",
        "        INSERT INTO Area (NomeArea, CategoriaArea)\n",
        "        VALUES (?, ?)\n",
        "        ''', (nome_area[i], categoria_area[i]))\n",
        "\n",
        "Key_Parceria =  [    1, 2, 3, 4, 4, 4, 5, 5, 5, 5, 5, 6, 7, 8, 8, 8, 8, 9, 9, 9, 9,\n",
        "                    10, 11, 12, 13, 14, 15, 16, 17, 18, 19, 19, 19, 20, 21, 22, 22,\n",
        "                    22, 22, 22, 23, 24, 25, 26, 26, 26, 26, 26, 27, 28, 29, 29, 30,\n",
        "                    30, 30, 31, 32, 33, 34, 35, 35, 36, 37, 38, 39, 40, 41, 42, 43,\n",
        "                    43, 44, 44, 44, 45, 46, 47, 48, 49, 50, 50, 50, 50]\n",
        "\n",
        "Key_Instituto = [   1, 4, 5, 6, 49, 52, 8, 33, 56, 19, 21, 9, 10, 12, 49, 55, 57, 13, 49, 23, 11, 15, 16, 17, 18, 23, 24, 27, 29,\n",
        "                    30, 30, 7, 52, 31, 32, 34, 35, 47, 14, 28, 36, 37, 38, 40, 47, 49, 14, 34, 41, 42, 43, 59, 44, 38, 39, 45, 46,\n",
        "                    47, 47, 47, 20, 48, 49, 49, 49, 49, 49, 49, 49, 26, 49, 47, 55, 50, 50, 22, 53, 54, 57, 58, 2, 3]\n",
        "\n",
        "# Verificar se a tabela \"ParceriaInstituicaoParceira\" está vazia\n",
        "cursor.execute(\"SELECT COUNT(*) FROM ParceriaInstituicaoOrgao\")\n",
        "resultado = cursor.fetchone()\n",
        "if resultado[0] == 0:                   \n",
        "    # Inserir dados na tabela \"instituicao\"\n",
        "    for i in range(len(Key_Parceria)):\n",
        "        cursor.execute('''\n",
        "        INSERT INTO ParceriaInstituicaoOrgao (ID_Parceria, ID_Orgao, ID_Instituicao)\n",
        "        VALUES (?, ?, ?)\n",
        "        ''', ( Key_Parceria[i], 1, Key_Instituto[i]))\n",
        "\n"
      ]
    },
    {
      "attachments": {},
      "cell_type": "markdown",
      "metadata": {},
      "source": [
        "### Criação dos arquivos CSV das respectivas tabelas"
      ]
    },
    {
      "cell_type": "code",
      "execution_count": 25,
      "metadata": {},
      "outputs": [],
      "source": [
        "# Executar a consulta SQL e obter os dados como DataFrame -- ORGAO ORIGEM\n",
        "query_orgao_origem = \"SELECT * FROM OrgaoOrigem\"\n",
        "df = pd.read_sql_query(query_orgao_origem, conn)\n",
        "df.to_csv('TabelaOrgao.csv', index=False)\n",
        "\n",
        "# Executar a consulta SQL e obter os dados como DataFrame - FUNCAO\n",
        "query_funcao = \"SELECT * FROM Funcao\"\n",
        "df = pd.read_sql_query(query_funcao, conn)\n",
        "df.to_csv('TabelaFuncao.csv', index=False)\n",
        "\n",
        "# Executar a consulta SQL e obter os dados como DataFrame - INSTITUICAO\n",
        "query_instituicao = \"SELECT * FROM Instituicao\"\n",
        "df = pd.read_sql_query(query_instituicao, conn)\n",
        "df.to_csv('TabelaInstituicao.csv', index=False)\n",
        "\n",
        "# Executar a consulta SQL e obter os dados como DataFrame - AREA\n",
        "query_area = \"SELECT * FROM Area\"\n",
        "df = pd.read_sql_query(query_area, conn)\n",
        "df.to_csv('TabelaArea.csv', index=False)\n",
        "\n",
        "# Executar a consulta SQL e obter os dados como DataFrame - PARCERIA\n",
        "query_parceria = \"SELECT * FROM Parceria\"\n",
        "df = pd.read_sql_query(query_parceria, conn)\n",
        "df.to_csv('TabelaParceria.csv', index=False)\n",
        "\n",
        "# Executar a consulta SQL e obter os dados como DataFrame - PARCERIA INSTITUICAO ORGAO\n",
        "query_instituicao_orgao = \"SELECT * FROM ParceriaInstituicaoOrgao\"\n",
        "df = pd.read_sql_query(query_instituicao_orgao, conn)\n",
        "df.to_csv('TabelaParceriaInstituicaoOrgao.csv', index=False)"
      ]
    },
    {
      "attachments": {},
      "cell_type": "markdown",
      "metadata": {
        "id": "gVMZ5sgXMsx7"
      },
      "source": [
        "# 4. Diagrama ER"
      ]
    },
    {
      "attachments": {},
      "cell_type": "markdown",
      "metadata": {
        "id": "oUuSvBNHMsx8"
      },
      "source": [
        "# 5. Diagrama relacional"
      ]
    },
    {
      "attachments": {},
      "cell_type": "markdown",
      "metadata": {
        "id": "VoN73lIlMsx8"
      },
      "source": [
        "# 6. Consultas"
      ]
    },
    {
      "attachments": {},
      "cell_type": "markdown",
      "metadata": {
        "id": "2YpY1xzjMsx9"
      },
      "source": [
        "## 6.1 Duas consultas envolvendo seleção e projeção"
      ]
    },
    {
      "attachments": {},
      "cell_type": "markdown",
      "metadata": {
        "id": "qf9BZkVHMsx-"
      },
      "source": [
        "### 6.1.1 Consulta 1 (duas versões)"
      ]
    },
    {
      "attachments": {},
      "cell_type": "markdown",
      "metadata": {
        "id": "jTvDIa8SMsx-"
      },
      "source": [
        "### 6.1.2 Consulta 2 (duas versões)"
      ]
    },
    {
      "attachments": {},
      "cell_type": "markdown",
      "metadata": {
        "id": "R4ypyDVEMsx_"
      },
      "source": [
        "## 6.2 Três consultas envolvendo junção de duas relações"
      ]
    },
    {
      "attachments": {},
      "cell_type": "markdown",
      "metadata": {
        "id": "lzP-LVTIMsyA"
      },
      "source": [
        "### 6.2.1 Consulta 3 (duas versões)"
      ]
    },
    {
      "attachments": {},
      "cell_type": "markdown",
      "metadata": {
        "id": "TUjilr5WMsyA"
      },
      "source": [
        "### 6.2.2 Consulta 4 (duas versões)"
      ]
    },
    {
      "attachments": {},
      "cell_type": "markdown",
      "metadata": {
        "id": "WRVCBqmnMsyB"
      },
      "source": [
        "### 6.2.3 Consulta 5 (duas versões)"
      ]
    },
    {
      "attachments": {},
      "cell_type": "markdown",
      "metadata": {
        "id": "lgo4SeE6MsyC"
      },
      "source": [
        "## 6.3 Três consultas envolvendo junção de três ou mais relações"
      ]
    },
    {
      "attachments": {},
      "cell_type": "markdown",
      "metadata": {
        "id": "dasXXVfgMsyD"
      },
      "source": [
        "### 6.3.1 Consulta 6 (duas versões)"
      ]
    },
    {
      "attachments": {},
      "cell_type": "markdown",
      "metadata": {
        "id": "HM2zFjTLMsyE"
      },
      "source": [
        "### 6.3.2 Consulta 7 (duas versões)"
      ]
    },
    {
      "attachments": {},
      "cell_type": "markdown",
      "metadata": {
        "id": "m_dimi3aMsyF"
      },
      "source": [
        "### 6.3.3 Consulta 8 (duas versões)"
      ]
    },
    {
      "attachments": {},
      "cell_type": "markdown",
      "metadata": {
        "id": "uNwuR_iUMsyG"
      },
      "source": [
        "## 6.4 Duas consultas envolvendo agregação sobre junção de duas ou mais relações"
      ]
    },
    {
      "attachments": {},
      "cell_type": "markdown",
      "metadata": {
        "id": "xfXU7jddMsyH"
      },
      "source": [
        "### 6.4.1 Consulta 9 (duas versões)"
      ]
    },
    {
      "attachments": {},
      "cell_type": "markdown",
      "metadata": {
        "id": "BhjKBOsUMsyH"
      },
      "source": [
        "### 6.4.2 Consulta 10 (duas versões)"
      ]
    },
    {
      "attachments": {},
      "cell_type": "markdown",
      "metadata": {
        "id": "m6mFALx3MsyI"
      },
      "source": [
        "# 7. Autoavaliação dos membros"
      ]
    }
  ],
  "metadata": {
    "colab": {
      "name": "tp2-template.ipynb",
      "provenance": []
    },
    "kernelspec": {
      "display_name": "Python 3",
      "language": "python",
      "name": "python3"
    },
    "language_info": {
      "codemirror_mode": {
        "name": "ipython",
        "version": 3
      },
      "file_extension": ".py",
      "mimetype": "text/x-python",
      "name": "python",
      "nbconvert_exporter": "python",
      "pygments_lexer": "ipython3",
      "version": "3.10.6"
    }
  },
  "nbformat": 4,
  "nbformat_minor": 0
}
