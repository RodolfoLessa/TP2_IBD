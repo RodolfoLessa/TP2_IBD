{
  "cells": [
    {
      "attachments": {},
      "cell_type": "markdown",
      "metadata": {
        "id": "qjKIf0quMsx4"
      },
      "source": [
        "# 1. Título\n",
        "## Análise do banco de dados do governo das parcerias e relações nacionais"
      ]
    },
    {
      "attachments": {},
      "cell_type": "markdown",
      "metadata": {
        "id": "mNHpCJkSMsx5"
      },
      "source": [
        "# 2. Nome e Matrícula:\n",
        "## João Igor de Andrade Oliveira - 2018072407\n",
        "## Lucas de Almeida Martins - 2018020328\n",
        "## Rodolfo de Albuquerque Lessa Villa Verde - 2018020719"
      ]
    },
    {
      "attachments": {},
      "cell_type": "markdown",
      "metadata": {
        "id": "UtkUm0znMsx6"
      },
      "source": [
        "# 3. Descrição dos dados (qual a URL? qual o domínio? como os dados foram processados?)"
      ]
    },
    {
      "attachments": {},
      "cell_type": "markdown",
      "metadata": {},
      "source": [
        "### Criação das tabelas do banco de dados"
      ]
    },
    {
      "cell_type": "code",
      "execution_count": 2,
      "metadata": {},
      "outputs": [],
      "source": [
        "import sqlite3\n",
        "import pandas as pd\n",
        "\n",
        "# Conexão ao banco de dados\n",
        "conn = sqlite3.connect('dados_coop_nacionais.db')\n",
        "\n",
        "# Esquema da tabela \"Órgão de Origem\"\n",
        "orgao_origem_schema = '''\n",
        "CREATE TABLE IF NOT EXISTS OrgaoOrigem (\n",
        "    ID_Orgao INTEGER PRIMARY KEY,\n",
        "    Nome TEXT,\n",
        "    Localizacao TEXT\n",
        ")\n",
        "'''\n",
        "\n",
        "# Esquema da tabela \"Função\"\n",
        "funcao_schema = '''\n",
        "CREATE TABLE IF NOT EXISTS Funcao (\n",
        "    ID_Funcao INTEGER PRIMARY KEY,\n",
        "    Nome TEXT,\n",
        "    Categoria TEXT\n",
        ")\n",
        "'''\n",
        "\n",
        "# Esquema da tabela \"Parceria\"\n",
        "parceria_schema = '''\n",
        "CREATE TABLE IF NOT EXISTS Parceria (\n",
        "    ID_Parceria INTEGER PRIMARY KEY,\n",
        "    Descricao TEXT,\n",
        "    Ano INTEGER\n",
        ")\n",
        "'''\n",
        "\n",
        "# Esquema da tabela \"Instituição Parceira\"\n",
        "instituicao_parceira_schema = '''\n",
        "CREATE TABLE IF NOT EXISTS InstituicaoParceira (\n",
        "    ID_Instituicao INTEGER PRIMARY KEY,\n",
        "    Nome TEXT,\n",
        "    Localizacao TEXT,\n",
        "    ID_Funcao INTEGER,\n",
        "    FOREIGN KEY (ID_Funcao) REFERENCES Funcao (ID_Funcao)\n",
        ")\n",
        "'''\n",
        "\n",
        "# Esquema da tabela intermediária \"Parceria_Órgão\"\n",
        "parceria_orgao_schema = '''\n",
        "CREATE TABLE IF NOT EXISTS Parceria_Orgao (\n",
        "    ID_Parceria INTEGER,\n",
        "    ID_Orgao INTEGER,\n",
        "    FOREIGN KEY (ID_Parceria) REFERENCES Parceria (ID_Parceria),\n",
        "    FOREIGN KEY (ID_Orgao) REFERENCES OrgaoOrigem (ID_Orgao)\n",
        ")\n",
        "'''\n",
        "\n",
        "# Esquema da tabela intermediária \"Parceria_Instituição_Parceira\"\n",
        "parceria_instituicao_parceira_schema = '''\n",
        "CREATE TABLE IF NOT EXISTS Parceria_Instituicao_Parceira (\n",
        "    ID_Parceria INTEGER,\n",
        "    ID_Instituicao INTEGER,\n",
        "    FOREIGN KEY (ID_Parceria) REFERENCES Parceria (ID_Parceria),\n",
        "    FOREIGN KEY (ID_Instituicao) REFERENCES InstituicaoParceira (ID_Instituicao)\n",
        ")\n",
        "'''\n",
        "\n",
        "# Execução dos esquemas das tabelas\n",
        "conn.execute(orgao_origem_schema)\n",
        "conn.execute(funcao_schema)\n",
        "conn.execute(parceria_schema)\n",
        "conn.execute(instituicao_parceira_schema)\n",
        "conn.execute(parceria_orgao_schema)\n",
        "conn.execute(parceria_instituicao_parceira_schema)\n",
        "\n",
        "# Fechamento da conexão com o banco de dados\n",
        "conn.close()"
      ]
    },
    {
      "attachments": {},
      "cell_type": "markdown",
      "metadata": {},
      "source": [
        "### Inserção dos valores nas tabelas"
      ]
    },
    {
      "cell_type": "code",
      "execution_count": null,
      "metadata": {},
      "outputs": [],
      "source": []
    },
    {
      "attachments": {},
      "cell_type": "markdown",
      "metadata": {
        "id": "gVMZ5sgXMsx7"
      },
      "source": [
        "# 4. Diagrama ER"
      ]
    },
    {
      "attachments": {},
      "cell_type": "markdown",
      "metadata": {
        "id": "oUuSvBNHMsx8"
      },
      "source": [
        "# 5. Diagrama relacional"
      ]
    },
    {
      "attachments": {},
      "cell_type": "markdown",
      "metadata": {
        "id": "VoN73lIlMsx8"
      },
      "source": [
        "# 6. Consultas"
      ]
    },
    {
      "attachments": {},
      "cell_type": "markdown",
      "metadata": {
        "id": "2YpY1xzjMsx9"
      },
      "source": [
        "## 6.1 Duas consultas envolvendo seleção e projeção"
      ]
    },
    {
      "attachments": {},
      "cell_type": "markdown",
      "metadata": {
        "id": "qf9BZkVHMsx-"
      },
      "source": [
        "### 6.1.1 Consulta 1 (duas versões)"
      ]
    },
    {
      "attachments": {},
      "cell_type": "markdown",
      "metadata": {
        "id": "jTvDIa8SMsx-"
      },
      "source": [
        "### 6.1.2 Consulta 2 (duas versões)"
      ]
    },
    {
      "attachments": {},
      "cell_type": "markdown",
      "metadata": {
        "id": "R4ypyDVEMsx_"
      },
      "source": [
        "## 6.2 Três consultas envolvendo junção de duas relações"
      ]
    },
    {
      "attachments": {},
      "cell_type": "markdown",
      "metadata": {
        "id": "lzP-LVTIMsyA"
      },
      "source": [
        "### 6.2.1 Consulta 3 (duas versões)"
      ]
    },
    {
      "attachments": {},
      "cell_type": "markdown",
      "metadata": {
        "id": "TUjilr5WMsyA"
      },
      "source": [
        "### 6.2.2 Consulta 4 (duas versões)"
      ]
    },
    {
      "attachments": {},
      "cell_type": "markdown",
      "metadata": {
        "id": "WRVCBqmnMsyB"
      },
      "source": [
        "### 6.2.3 Consulta 5 (duas versões)"
      ]
    },
    {
      "attachments": {},
      "cell_type": "markdown",
      "metadata": {
        "id": "lgo4SeE6MsyC"
      },
      "source": [
        "## 6.3 Três consultas envolvendo junção de três ou mais relações"
      ]
    },
    {
      "attachments": {},
      "cell_type": "markdown",
      "metadata": {
        "id": "dasXXVfgMsyD"
      },
      "source": [
        "### 6.3.1 Consulta 6 (duas versões)"
      ]
    },
    {
      "attachments": {},
      "cell_type": "markdown",
      "metadata": {
        "id": "HM2zFjTLMsyE"
      },
      "source": [
        "### 6.3.2 Consulta 7 (duas versões)"
      ]
    },
    {
      "attachments": {},
      "cell_type": "markdown",
      "metadata": {
        "id": "m_dimi3aMsyF"
      },
      "source": [
        "### 6.3.3 Consulta 8 (duas versões)"
      ]
    },
    {
      "attachments": {},
      "cell_type": "markdown",
      "metadata": {
        "id": "uNwuR_iUMsyG"
      },
      "source": [
        "## 6.4 Duas consultas envolvendo agregação sobre junção de duas ou mais relações"
      ]
    },
    {
      "attachments": {},
      "cell_type": "markdown",
      "metadata": {
        "id": "xfXU7jddMsyH"
      },
      "source": [
        "### 6.4.1 Consulta 9 (duas versões)"
      ]
    },
    {
      "attachments": {},
      "cell_type": "markdown",
      "metadata": {
        "id": "BhjKBOsUMsyH"
      },
      "source": [
        "### 6.4.2 Consulta 10 (duas versões)"
      ]
    },
    {
      "attachments": {},
      "cell_type": "markdown",
      "metadata": {
        "id": "m6mFALx3MsyI"
      },
      "source": [
        "# 7. Autoavaliação dos membros"
      ]
    }
  ],
  "metadata": {
    "colab": {
      "name": "tp2-template.ipynb",
      "provenance": []
    },
    "kernelspec": {
      "display_name": "Python 3",
      "language": "python",
      "name": "python3"
    },
    "language_info": {
      "codemirror_mode": {
        "name": "ipython",
        "version": 3
      },
      "file_extension": ".py",
      "mimetype": "text/x-python",
      "name": "python",
      "nbconvert_exporter": "python",
      "pygments_lexer": "ipython3",
      "version": "3.10.6"
    }
  },
  "nbformat": 4,
  "nbformat_minor": 0
}
